{
  "nbformat": 4,
  "nbformat_minor": 0,
  "metadata": {
    "colab": {
      "provenance": []
    },
    "kernelspec": {
      "name": "python3",
      "display_name": "Python 3"
    },
    "language_info": {
      "name": "python"
    }
  },
  "cells": [
    {
      "cell_type": "code",
      "source": [
        "print(\"hello world!\")"
      ],
      "metadata": {
        "colab": {
          "base_uri": "https://localhost:8080/"
        },
        "id": "1x56-ZB3q5OI",
        "outputId": "dd119642-b702-4c3d-d765-7a436e27d10f"
      },
      "execution_count": 3,
      "outputs": [
        {
          "output_type": "stream",
          "name": "stdout",
          "text": [
            "hello world!\n"
          ]
        }
      ]
    },
    {
      "cell_type": "code",
      "source": [
        "name = \"shubham\"\n",
        "age = 15\n",
        "height= 5.8\n",
        "is_gamer= True\n",
        "\n",
        "\n",
        "print(name)\n",
        "print(age)\n",
        "print(height)\n",
        "print(is_gamer)\n"
      ],
      "metadata": {
        "colab": {
          "base_uri": "https://localhost:8080/"
        },
        "id": "CiXPvm9BrZR4",
        "outputId": "d6a8c553-9030-4970-c49f-2eaabf39953d"
      },
      "execution_count": 4,
      "outputs": [
        {
          "output_type": "stream",
          "name": "stdout",
          "text": [
            "shubham\n",
            "15\n",
            "5.8\n",
            "True\n"
          ]
        }
      ]
    },
    {
      "cell_type": "code",
      "source": [
        "user_name = input(\"What is your name?\")\n",
        "print(user_name)"
      ],
      "metadata": {
        "colab": {
          "base_uri": "https://localhost:8080/"
        },
        "id": "6_H48sq-taiO",
        "outputId": "6d363ada-5759-49fe-b937-42d068154aa7"
      },
      "execution_count": 7,
      "outputs": [
        {
          "output_type": "stream",
          "name": "stdout",
          "text": [
            "What is your name?Shubham\n",
            "Shubham\n"
          ]
        }
      ]
    },
    {
      "cell_type": "code",
      "source": [
        "x=3\n",
        "y=10\n",
        "print(x+y)"
      ],
      "metadata": {
        "colab": {
          "base_uri": "https://localhost:8080/"
        },
        "id": "X0uKWxjCtuvj",
        "outputId": "7421acfb-3f88-4593-93a1-d1cf7d42758e"
      },
      "execution_count": 8,
      "outputs": [
        {
          "output_type": "stream",
          "name": "stdout",
          "text": [
            "13\n"
          ]
        }
      ]
    },
    {
      "cell_type": "code",
      "source": [
        "age = int(input(\"Enter your age:-\"))\n",
        "\n",
        "if age>=18:\n",
        "  print(\"you can drive\")\n",
        "elif age<=13:\n",
        "  print(\"you are minor\")\n",
        "else:\n",
        "  print(\"you cannot drive\")\n"
      ],
      "metadata": {
        "colab": {
          "base_uri": "https://localhost:8080/"
        },
        "id": "otB9lKgeuCjk",
        "outputId": "94d16c9f-cb87-4e82-df17-6a525b827d63"
      },
      "execution_count": 10,
      "outputs": [
        {
          "output_type": "stream",
          "name": "stdout",
          "text": [
            "Enter your age:-18\n",
            "you can drive\n"
          ]
        }
      ]
    }
  ]
}